{
  "nbformat": 4,
  "nbformat_minor": 0,
  "metadata": {
    "colab": {
      "name": "Linear Regression.ipynb",
      "provenance": [],
      "authorship_tag": "ABX9TyMCDRxxHBHKvcq4fJ2ByeGb",
      "include_colab_link": true
    },
    "kernelspec": {
      "name": "python3",
      "display_name": "Python 3"
    }
  },
  "cells": [
    {
      "cell_type": "markdown",
      "metadata": {
        "id": "view-in-github",
        "colab_type": "text"
      },
      "source": [
        "<a href=\"https://colab.research.google.com/github/Pooja-m99/Machine_Learning_Algorithms/blob/master/Linear_Regression.ipynb\" target=\"_parent\"><img src=\"https://colab.research.google.com/assets/colab-badge.svg\" alt=\"Open In Colab\"/></a>"
      ]
    },
    {
      "cell_type": "code",
      "metadata": {
        "colab_type": "code",
        "id": "dTzQy9KAm0ZA",
        "outputId": "f36cab01-24f8-4fc0-afe1-cba262550ba6",
        "colab": {
          "base_uri": "https://localhost:8080/",
          "height": 934
        }
      },
      "source": [
        "import numpy as np\n",
        "import matplotlib.pyplot as plt\n",
        "import pandas as pd\n",
        "from sklearn.datasets import load_boston\n",
        "%matplotlib inline\n",
        "boston=load_boston()\n",
        "print(boston.DESCR)"
      ],
      "execution_count": 0,
      "outputs": [
        {
          "output_type": "stream",
          "text": [
            ".. _boston_dataset:\n",
            "\n",
            "Boston house prices dataset\n",
            "---------------------------\n",
            "\n",
            "**Data Set Characteristics:**  \n",
            "\n",
            "    :Number of Instances: 506 \n",
            "\n",
            "    :Number of Attributes: 13 numeric/categorical predictive. Median Value (attribute 14) is usually the target.\n",
            "\n",
            "    :Attribute Information (in order):\n",
            "        - CRIM     per capita crime rate by town\n",
            "        - ZN       proportion of residential land zoned for lots over 25,000 sq.ft.\n",
            "        - INDUS    proportion of non-retail business acres per town\n",
            "        - CHAS     Charles River dummy variable (= 1 if tract bounds river; 0 otherwise)\n",
            "        - NOX      nitric oxides concentration (parts per 10 million)\n",
            "        - RM       average number of rooms per dwelling\n",
            "        - AGE      proportion of owner-occupied units built prior to 1940\n",
            "        - DIS      weighted distances to five Boston employment centres\n",
            "        - RAD      index of accessibility to radial highways\n",
            "        - TAX      full-value property-tax rate per $10,000\n",
            "        - PTRATIO  pupil-teacher ratio by town\n",
            "        - B        1000(Bk - 0.63)^2 where Bk is the proportion of blacks by town\n",
            "        - LSTAT    % lower status of the population\n",
            "        - MEDV     Median value of owner-occupied homes in $1000's\n",
            "\n",
            "    :Missing Attribute Values: None\n",
            "\n",
            "    :Creator: Harrison, D. and Rubinfeld, D.L.\n",
            "\n",
            "This is a copy of UCI ML housing dataset.\n",
            "https://archive.ics.uci.edu/ml/machine-learning-databases/housing/\n",
            "\n",
            "\n",
            "This dataset was taken from the StatLib library which is maintained at Carnegie Mellon University.\n",
            "\n",
            "The Boston house-price data of Harrison, D. and Rubinfeld, D.L. 'Hedonic\n",
            "prices and the demand for clean air', J. Environ. Economics & Management,\n",
            "vol.5, 81-102, 1978.   Used in Belsley, Kuh & Welsch, 'Regression diagnostics\n",
            "...', Wiley, 1980.   N.B. Various transformations are used in the table on\n",
            "pages 244-261 of the latter.\n",
            "\n",
            "The Boston house-price data has been used in many machine learning papers that address regression\n",
            "problems.   \n",
            "     \n",
            ".. topic:: References\n",
            "\n",
            "   - Belsley, Kuh & Welsch, 'Regression diagnostics: Identifying Influential Data and Sources of Collinearity', Wiley, 1980. 244-261.\n",
            "   - Quinlan,R. (1993). Combining Instance-Based and Model-Based Learning. In Proceedings on the Tenth International Conference of Machine Learning, 236-243, University of Massachusetts, Amherst. Morgan Kaufmann.\n",
            "\n"
          ],
          "name": "stdout"
        }
      ]
    },
    {
      "cell_type": "code",
      "metadata": {
        "id": "KmFAtR2Pn-04",
        "colab_type": "code",
        "colab": {}
      },
      "source": [
        "features=pd.DataFrame(boston.data,columns=boston.feature_names)\n",
        "target=pd.DataFrame(boston.target,columns=['Target'])\n",
        "data=pd.concat([features,target],axis=1)"
      ],
      "execution_count": 0,
      "outputs": []
    },
    {
      "cell_type": "code",
      "metadata": {
        "id": "2YCJ9I9ApCj3",
        "colab_type": "code",
        "outputId": "8c3b6830-7a3f-4c7b-b666-b07ea5a25227",
        "colab": {
          "base_uri": "https://localhost:8080/",
          "height": 281
        }
      },
      "source": [
        "data2=data.corr('pearson')\n",
        "abs(data2.loc['Target']).sort_values(ascending=False)"
      ],
      "execution_count": 0,
      "outputs": [
        {
          "output_type": "execute_result",
          "data": {
            "text/plain": [
              "Target     1.000000\n",
              "LSTAT      0.737663\n",
              "RM         0.695360\n",
              "PTRATIO    0.507787\n",
              "INDUS      0.483725\n",
              "TAX        0.468536\n",
              "NOX        0.427321\n",
              "CRIM       0.388305\n",
              "RAD        0.381626\n",
              "AGE        0.376955\n",
              "ZN         0.360445\n",
              "B          0.333461\n",
              "DIS        0.249929\n",
              "CHAS       0.175260\n",
              "Name: Target, dtype: float64"
            ]
          },
          "metadata": {
            "tags": []
          },
          "execution_count": 100
        }
      ]
    },
    {
      "cell_type": "code",
      "metadata": {
        "id": "E81nkirbqusq",
        "colab_type": "code",
        "colab": {}
      },
      "source": [
        "X=data['LSTAT']\n",
        "Y=data['Target']\n"
      ],
      "execution_count": 0,
      "outputs": []
    },
    {
      "cell_type": "code",
      "metadata": {
        "id": "igglC0LprAMm",
        "colab_type": "code",
        "colab": {}
      },
      "source": [
        "X=np.array(X/X.mean())\n",
        "Y=np.array(Y/Y.mean())"
      ],
      "execution_count": 0,
      "outputs": []
    },
    {
      "cell_type": "code",
      "metadata": {
        "id": "v2d_m09frZk1",
        "colab_type": "code",
        "colab": {}
      },
      "source": [
        "n=int(0.8*len(X))\n",
        "x_train=X[:n]\n",
        "y_train=Y[:n]\n",
        "x_test=X[n:]\n",
        "y_test=Y[n:]"
      ],
      "execution_count": 0,
      "outputs": []
    },
    {
      "cell_type": "code",
      "metadata": {
        "id": "QF79ymxpsJbQ",
        "colab_type": "code",
        "outputId": "86651f2c-e95f-4b30-f1aa-c4a1f9a62c86",
        "colab": {
          "base_uri": "https://localhost:8080/",
          "height": 282
        }
      },
      "source": [
        "plt.plot(x_train,y_train,'g*')"
      ],
      "execution_count": 0,
      "outputs": [
        {
          "output_type": "execute_result",
          "data": {
            "text/plain": [
              "[<matplotlib.lines.Line2D at 0x7feb6dac2ba8>]"
            ]
          },
          "metadata": {
            "tags": []
          },
          "execution_count": 104
        },
        {
          "output_type": "display_data",
          "data": {
            "image/png": "[encoded data removed]",
            "text/plain": [
              "<Figure size 432x288 with 1 Axes>"
            ]
          },
          "metadata": {
            "tags": []
          }
        }
      ]
    },
    {
      "cell_type": "code",
      "metadata": {
        "id": "BYA0XzUrtlQL",
        "colab_type": "code",
        "colab": {}
      },
      "source": [
        "def hypothesis(a,b,x):\n",
        "    return a*x + b"
      ],
      "execution_count": 0,
      "outputs": []
    },
    {
      "cell_type": "code",
      "metadata": {
        "id": "fz6GURfJ1EhM",
        "colab_type": "code",
        "colab": {}
      },
      "source": [
        "def error(a,b,x,y):\n",
        "    e=0\n",
        "    m=len(y)\n",
        "    for i in range(m):\n",
        "      e+=np.power((hypothesis(a,b,x[i])-y[i]),2)\n",
        "\n",
        "    return (1/(2*m))*e"
      ],
      "execution_count": 0,
      "outputs": []
    },
    {
      "cell_type": "code",
      "metadata": {
        "id": "N8oolNvD3b4R",
        "colab_type": "code",
        "colab": {}
      },
      "source": [
        "  def step_gradient(a,b,x,y,learning_rate):\n",
        "    grad_a=0\n",
        "    grad_b=0\n",
        "    m=len(x)\n",
        "    for i in range(m):\n",
        "      grad_a+=1/m*(hypothesis(a,b,x[i]-y[i])*x[i])\n",
        "      grad_b+=1/m*(hypothesis(a,b,x[i]-y[i]))\n",
        "      a=a-(grad_a* learning_rate)\n",
        "      b=b-(grad_b*learning_rate)\n",
        "\n",
        "      return a,b\n",
        "      "
      ],
      "execution_count": 0,
      "outputs": []
    },
    {
      "cell_type": "code",
      "metadata": {
        "id": "VC6YMA8g91A4",
        "colab_type": "code",
        "colab": {}
      },
      "source": [
        "def descend(initial_a, initial_b,x,y,learning_rate,iteration):\n",
        "    a=initial_a\n",
        "    b=initial_b\n",
        "    for i in range(iterations):\n",
        "       e=error(a,b,x,y)\n",
        "       if i % 1000==0:\n",
        "        print(f\"Error: {e},a:{a},b:{b}\")\n",
        "        a,b= step_gradient(a,b,x,y,learning_rate)\n",
        "    return a,b\n"
      ],
      "execution_count": 0,
      "outputs": []
    },
    {
      "cell_type": "code",
      "metadata": {
        "id": "BRdXS2Ob_lTC",
        "colab_type": "code",
        "outputId": "ca596072-5128-4a62-dd14-89865def282b",
        "colab": {
          "base_uri": "https://localhost:8080/",
          "height": 193
        }
      },
      "source": [
        "a=0\n",
        "b=1\n",
        "learning_rate=0.1\n",
        "iterations=10000\n",
        "final_a,final_b=descend(a,b,x_train,y_train,learning_rate,iterations)\n"
      ],
      "execution_count": 0,
      "outputs": [
        {
          "output_type": "stream",
          "text": [
            "Error: 0.08691047391394598,a:0,b:1\n",
            "Error: 0.08691969138039152,a:-9.742093624586316e-05,b:0.9997524752475248\n",
            "Error: 0.0869290220822823,a:-0.00019482413181087533,b:0.9995049955701413\n",
            "Error: 0.08693846595714919,a:-0.0002922095899256743,b:0.9992575609596411\n",
            "Error: 0.08694802294254955,a:-0.0003895773138203096,b:0.9990101714078176\n",
            "Error: 0.08695769297606738,a:-0.0004869273067242424,b:0.9987628269064652\n",
            "Error: 0.08696747599531333,a:-0.0005842595718663459,b:0.9985155274473803\n",
            "Error: 0.08697737193792454,a:-0.0006815741124749054,b:0.9982682730223603\n",
            "Error: 0.08698738074156502,a:-0.000778870931777618,b:0.9980210636232045\n",
            "Error: 0.08699750234392495,a:-0.0008761500330015933,b:0.9977738992417136\n"
          ],
          "name": "stdout"
        }
      ]
    },
    {
      "cell_type": "code",
      "metadata": {
        "id": "m3biY2WaABDA",
        "colab_type": "code",
        "outputId": "7468f2f4-0054-4b81-81da-bb089c31b6a7",
        "colab": {
          "base_uri": "https://localhost:8080/",
          "height": 34
        }
      },
      "source": [
        "print(error(a,b,x_train,y_train))\n"
      ],
      "execution_count": 0,
      "outputs": [
        {
          "output_type": "stream",
          "text": [
            "0.08691047391394598\n"
          ],
          "name": "stdout"
        }
      ]
    },
    {
      "cell_type": "code",
      "metadata": {
        "id": "RX3AcmSLFXyp",
        "colab_type": "code",
        "outputId": "b3401c5d-5507-4ee7-adf1-18630fe20c9c",
        "colab": {
          "base_uri": "https://localhost:8080/",
          "height": 34
        }
      },
      "source": [
        "print(error(final_a,final_b,x_train,y_train))"
      ],
      "execution_count": 0,
      "outputs": [
        {
          "output_type": "stream",
          "text": [
            "0.08700773668272117\n"
          ],
          "name": "stdout"
        }
      ]
    },
    {
      "cell_type": "code",
      "metadata": {
        "id": "idxOAhusCmKY",
        "colab_type": "code",
        "outputId": "6919c9c4-2b29-415c-f6e1-9a4745c5e216",
        "colab": {
          "base_uri": "https://localhost:8080/",
          "height": 282
        }
      },
      "source": [
        "plt.plot(x_train,y_train,'r*')"
      ],
      "execution_count": 0,
      "outputs": [
        {
          "output_type": "execute_result",
          "data": {
            "text/plain": [
              "[<matplotlib.lines.Line2D at 0x7feb6da32828>]"
            ]
          },
          "metadata": {
            "tags": []
          },
          "execution_count": 112
        },
        {
          "output_type": "display_data",
          "data": {
            "image/png": "[encoded data removed]",
            "text/plain": [
              "<Figure size 432x288 with 1 Axes>"
            ]
          },
          "metadata": {
            "tags": []
          }
        }
      ]
    },
    {
      "cell_type": "code",
      "metadata": {
        "id": "y7gG3D3RC1AY",
        "colab_type": "code",
        "outputId": "8247f75d-11c1-4658-a8e9-e80132a7dfce",
        "colab": {
          "base_uri": "https://localhost:8080/",
          "height": 300
        }
      },
      "source": [
        "plt.plot(x_test,y_test,'r*',x_test,hypothesis(final_a,final_b,x_test),'g*')"
      ],
      "execution_count": 0,
      "outputs": [
        {
          "output_type": "execute_result",
          "data": {
            "text/plain": [
              "[<matplotlib.lines.Line2D at 0x7feb6d9a2208>,\n",
              " <matplotlib.lines.Line2D at 0x7feb6d9a2320>]"
            ]
          },
          "metadata": {
            "tags": []
          },
          "execution_count": 113
        },
        {
          "output_type": "display_data",
          "data": {
            "image/png": "[encoded data removed]",
            "text/plain": [
              "<Figure size 432x288 with 1 Axes>"
            ]
          },
          "metadata": {
            "tags": []
          }
        }
      ]
    },
    {
      "cell_type": "code",
      "metadata": {
        "id": "uCBjKocrDWl8",
        "colab_type": "code",
        "colab": {}
      },
      "source": [
        ""
      ],
      "execution_count": 0,
      "outputs": []
    }
  ]
}