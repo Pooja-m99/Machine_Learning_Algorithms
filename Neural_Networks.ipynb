{
  "nbformat": 4,
  "nbformat_minor": 0,
  "metadata": {
    "colab": {
      "name": "Neural Networks.ipynb",
      "provenance": [],
      "authorship_tag": "ABX9TyNa16/ePEqU0GKiAsCBzNAP",
      "include_colab_link": true
    },
    "kernelspec": {
      "name": "python3",
      "display_name": "Python 3"
    }
  },
  "cells": [
    {
      "cell_type": "markdown",
      "metadata": {
        "id": "view-in-github",
        "colab_type": "text"
      },
      "source": [
        "<a href=\"https://colab.research.google.com/github/Pooja-m99/Machine_Learning_Algorithms/blob/master/Neural_Networks.ipynb\" target=\"_parent\"><img src=\"https://colab.research.google.com/assets/colab-badge.svg\" alt=\"Open In Colab\"/></a>"
      ]
    },
    {
      "cell_type": "code",
      "metadata": {
        "id": "bGc7TZAO_i27",
        "colab_type": "code",
        "colab": {}
      },
      "source": [
        "import numpy as np\n",
        "import pandas as pd\n",
        "import matplotlib.pyplot as plt\n",
        "\n",
        "from sklearn.model_selection import train_test_split\n",
        "\n",
        "%matplotlib inline"
      ],
      "execution_count": 0,
      "outputs": []
    },
    {
      "cell_type": "code",
      "metadata": {
        "id": "Y9Z-WLCY_6FQ",
        "colab_type": "code",
        "colab": {}
      },
      "source": [
        "input_data=np.array([[0,0,0],\n",
        "                     [0,1,0],\n",
        "                     [0,0,1],\n",
        "                     [1,1,0],\n",
        "                     [1,0,1],\n",
        "                     [1,1,1]])"
      ],
      "execution_count": 0,
      "outputs": []
    },
    {
      "cell_type": "code",
      "metadata": {
        "id": "31qnFMeXAZGK",
        "colab_type": "code",
        "colab": {}
      },
      "source": [
        "output_data=np.array([[0],\n",
        "                      [1],\n",
        "                      [1],\n",
        "                      [0],\n",
        "                      [0],\n",
        "                      [1]])\n"
      ],
      "execution_count": 0,
      "outputs": []
    },
    {
      "cell_type": "code",
      "metadata": {
        "id": "fhjY0TL_AmZ8",
        "colab_type": "code",
        "colab": {}
      },
      "source": [
        "def sigmoid(x):\n",
        "  return (1)/(1+np.exp(-x))\n",
        "  "
      ],
      "execution_count": 0,
      "outputs": []
    },
    {
      "cell_type": "code",
      "metadata": {
        "id": "3lCCANDKA1OK",
        "colab_type": "code",
        "colab": {}
      },
      "source": [
        "def dsigmoid(x):\n",
        "  return x*(1-x)\n"
      ],
      "execution_count": 0,
      "outputs": []
    },
    {
      "cell_type": "code",
      "metadata": {
        "id": "12xQbLJGBAN1",
        "colab_type": "code",
        "colab": {}
      },
      "source": [
        "np.random.seed(1)\n",
        "w0=np.random.random((3,2))-1\n",
        "w1=np.random.random((2,1))-1\n",
        "\n",
        "b0=np.random.random((1,1))-1\n",
        "b1=np.random.random((1,1))-1\n",
        "\n"
      ],
      "execution_count": 0,
      "outputs": []
    },
    {
      "cell_type": "code",
      "metadata": {
        "id": "q_m7LDWGBgR4",
        "colab_type": "code",
        "colab": {}
      },
      "source": [
        "def feed_forward(data_in,w0,w1,b0,b1):\n",
        "  layer0=data_in\n",
        "  layer1=sigmoid(np.dot(layer0,w0)+b0)\n",
        "  layer2=sigmoid(np.dot(layer1,w1)+b1)\n",
        "  \n",
        "  return layer0,layer1,layer2"
      ],
      "execution_count": 0,
      "outputs": []
    },
    {
      "cell_type": "code",
      "metadata": {
        "id": "74cDb3OcCGGE",
        "colab_type": "code",
        "colab": {}
      },
      "source": [
        "def back_propogation(layer0,layer1,layer2,actual_y,w0,w1,b0,b1,learning_rate,i):\n",
        "\n",
        "  l2_error=layer2 - actual_y\n",
        "  l2_delta=l2_error * dsigmoid(layer2)\n",
        "  dh2=np.dot(layer1.T,l2_delta)\n",
        "\n",
        "  l1_error=np.dot(l2_delta,w1.T)\n",
        "  l1_delta=l1_error *dsigmoid(layer1)\n",
        "  dh1=np.dot(layer0.T,l1_delta)\n",
        "\n",
        "  w1=w1-(learning_rate * dh2)\n",
        "  w0=w0-(learning_rate * dh1)\n",
        "\n",
        "  b1=b1-(learning_rate * np.mean(l2_delta))\n",
        "  b0=b0-(learning_rate * np.mean(l1_delta))\n",
        "\n",
        "  if i % 1==0 and (i!=0):\n",
        "    loss=np.mean(np.power(layer2-actual_y,2))\n",
        "    loss_curve.append(loss)\n",
        "    iters.append(int(i))\n",
        "\n",
        "    if i % 100==0:\n",
        "      print('\\n', int(i),loss)\n",
        "  return w0,w1,b0,b1\n"
      ],
      "execution_count": 0,
      "outputs": []
    },
    {
      "cell_type": "code",
      "metadata": {
        "id": "vO-fBx4-ERlq",
        "colab_type": "code",
        "colab": {}
      },
      "source": [
        "def accuracy(testx,testy):\n",
        "  correct=0\n",
        "  layer0,layer1,layer2=feed_forward(testx,w0,w1,b0,b1)\n",
        "\n",
        "  for i in range(len(testx)):\n",
        "    if np.argmax(layer2[i])==np.argmax(testy[1]):\n",
        "      correct+=1\n",
        "  return f\"Accuracy: {correct*100/len(testy)}\"\n"
      ],
      "execution_count": 0,
      "outputs": []
    },
    {
      "cell_type": "code",
      "metadata": {
        "id": "N7s7aCtGFWzA",
        "colab_type": "code",
        "colab": {}
      },
      "source": [
        "epochs=10\n",
        "loss_curve=[]\n",
        "iters=[]\n"
      ],
      "execution_count": 0,
      "outputs": []
    },
    {
      "cell_type": "code",
      "metadata": {
        "id": "BjR3Z_WoFft9",
        "colab_type": "code",
        "colab": {}
      },
      "source": [
        "for i in range(epochs):\n",
        "  layer0,layer1,layer2=feed_forward(input_data,w0,w1,b0,b1)\n",
        "  w0,w1,b0,b1=back_propogation(layer0,layer1,layer2,output_data,w0,w1,b0,b1,0.01,i)\n",
        "  "
      ],
      "execution_count": 0,
      "outputs": []
    },
    {
      "cell_type": "code",
      "metadata": {
        "id": "9cQsdBWlIqa2",
        "colab_type": "code",
        "outputId": "2fc9c5c9-fb5d-4b6e-b960-4ea2b78a243b",
        "colab": {
          "base_uri": "https://localhost:8080/",
          "height": 282
        }
      },
      "source": [
        "plt.plot(iters,loss_curve)"
      ],
      "execution_count": 0,
      "outputs": [
        {
          "output_type": "execute_result",
          "data": {
            "text/plain": [
              "[<matplotlib.lines.Line2D at 0x7f32e9017160>]"
            ]
          },
          "metadata": {
            "tags": []
          },
          "execution_count": 155
        },
        {
          "output_type": "display_data",
          "data": {
            "image/png": "[encoded data removed]",
            "text/plain": [
              "<Figure size 432x288 with 1 Axes>"
            ]
          },
          "metadata": {
            "tags": []
          }
        }
      ]
    },
    {
      "cell_type": "code",
      "metadata": {
        "id": "xPWZnqNBHltF",
        "colab_type": "code",
        "outputId": "6288d228-61e0-47b4-8b40-da325005fcf0",
        "colab": {
          "base_uri": "https://localhost:8080/",
          "height": 34
        }
      },
      "source": [
        "accuracy(input_data,output_data)\n"
      ],
      "execution_count": 0,
      "outputs": [
        {
          "output_type": "execute_result",
          "data": {
            "text/plain": [
              "'Accuracy: 100.0'"
            ]
          },
          "metadata": {
            "tags": []
          },
          "execution_count": 156
        }
      ]
    }
  ]
}